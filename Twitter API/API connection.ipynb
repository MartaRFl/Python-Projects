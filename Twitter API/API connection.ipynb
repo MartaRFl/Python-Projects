{
 "cells": [
  {
   "cell_type": "code",
   "execution_count": 54,
   "metadata": {},
   "outputs": [
    {
     "name": "stdout",
     "output_type": "stream",
     "text": [
      "{'id': '1507325222684434433', 'text': 'When I said I want to relate to a Taylor Swift song I meant peace not this is me trying'}\n",
      "{'id': '1507325217990799364', 'text': 'Daylight by Taylor Swift appreciation tweet ;&gt; https://t.co/L1dLjsabTm'}\n",
      "{'id': '1507325124755980296', 'text': 'Funfact aku buat au ini jam 2 malam dan lagi hujan. Aku dengerin lagu delicate by taylor swift makanya kepikiran scene main hujan https://t.co/dFj0GXgpBD'}\n",
      "{'id': '1507325052886425601', 'text': 'imagina colocarem a taylor swift pra interpretar a evelyn hugo, eu cometo um crime'}\n",
      "{'id': '1507325014114435075', 'text': 'Taylordle 56 1/6\\n\\n🟩🟩🟩🟩🟩🟩🟩🟩\\n\\nJust because the answer is my absolute favorite Taylor Swift song.'}\n",
      "{'id': '1507324935953334280', 'text': 'overstimulated at the grocery store and taylor swift started playing over the speakers'}\n",
      "{'id': '1507324928676270082', 'text': 'im wearing a taylor swift cardigan at the airport and no one has approached me to tell me how cool i am this is so unfair'}\n",
      "{'id': '1507324927803764741', 'text': 'Red+ paper rings+ Taylor swift https://t.co/nBwk8Jnq4I'}\n",
      "{'id': '1507324924159004681', 'text': 'ojalá mis vecinos sean fans d olivia rodrigo y taylor swift se lo tienen qe estar pasando genial'}\n",
      "{'id': '1507324832010043393', 'text': 'oh to have taylor swift warm my hands up https://t.co/9lxu1B0LZK'}\n"
     ]
    }
   ],
   "source": [
    "import tweepy\n",
    "import password\n",
    "\n",
    "client = tweepy.Client(password.bearer_token)\n",
    "query= \"Taylor Swift -is:retweet\"\n",
    "\n",
    "raw_tweets= client.search_recent_tweets(query, max_results=10)\n",
    "\n",
    "for tweet in raw_tweets.data:\n",
    "    print(tweet.data)"
   ]
  }
 ],
 "metadata": {
  "kernelspec": {
   "display_name": "Python 3",
   "language": "python",
   "name": "python3"
  },
  "language_info": {
   "codemirror_mode": {
    "name": "ipython",
    "version": 3
   },
   "file_extension": ".py",
   "mimetype": "text/x-python",
   "name": "python",
   "nbconvert_exporter": "python",
   "pygments_lexer": "ipython3",
   "version": "3.8.3"
  }
 },
 "nbformat": 4,
 "nbformat_minor": 4
}
