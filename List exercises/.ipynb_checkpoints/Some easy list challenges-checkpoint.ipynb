{
 "cells": [
  {
   "cell_type": "code",
   "execution_count": 3,
   "metadata": {},
   "outputs": [
    {
     "data": {
      "text/plain": [
       "'abcdefghijklmnopqrstuvwxyz'"
      ]
     },
     "execution_count": 3,
     "metadata": {},
     "output_type": "execute_result"
    }
   ],
   "source": [
    "import string as str\n",
    "str.digits\n",
    "str.ascii_lowercase"
   ]
  },
  {
   "cell_type": "code",
   "execution_count": 34,
   "metadata": {},
   "outputs": [
    {
     "name": "stdout",
     "output_type": "stream",
     "text": [
      "26\n",
      "26\n",
      "1\n",
      "1\n"
     ]
    }
   ],
   "source": [
    "# COUNT LETTERS: Two different methods.\n",
    "def count_letters(string):\n",
    "    return len(string)\n",
    "\n",
    "def count_letters_2 (string):\n",
    "    total=0\n",
    "    for letter in string:\n",
    "        total+=1\n",
    "    return total\n",
    "\n",
    "string=str.ascii_lowercase\n",
    "string2=\"h\"\n",
    "\n",
    "print(count_letters(string))\n",
    "print(count_letters_2(string))\n",
    "\n",
    "print(count_letters(string2))\n",
    "print(count_letters_2(string2))"
   ]
  },
  {
   "cell_type": "code",
   "execution_count": 48,
   "metadata": {},
   "outputs": [
    {
     "name": "stdout",
     "output_type": "stream",
     "text": [
      "4\n"
     ]
    }
   ],
   "source": [
    "# COUNT HOW MANY TIMES A LETTER APPEARS IN A STRING\n",
    "\n",
    "def count_times(word,x):\n",
    "    total=0\n",
    "    for letter in word:\n",
    "        if letter == x:\n",
    "            total+=1\n",
    "    return total\n",
    "\n",
    "word=\"mississippi\"\n",
    "print(count_times(word,\"s\"))\n",
    "\n"
   ]
  },
  {
   "cell_type": "code",
   "execution_count": 53,
   "metadata": {},
   "outputs": [
    {
     "name": "stdout",
     "output_type": "stream",
     "text": [
      "1\n"
     ]
    }
   ],
   "source": [
    "# COUNT HOW MANY TIMES A WORD APPEARS IN A STRING\n",
    "\n",
    "def count_words(string, word):\n",
    "    splits=string.split(word)\n",
    "    return(len(splits)-1)\n",
    "\n",
    "print(count_words(\"apple\", \"pp\"))"
   ]
  },
  {
   "cell_type": "code",
   "execution_count": 70,
   "metadata": {},
   "outputs": [
    {
     "name": "stdout",
     "output_type": "stream",
     "text": [
      "['p', 'p']\n"
     ]
    }
   ],
   "source": [
    "# SUBSTRING BETWEEN TWO LETTERS.\n",
    "\n",
    "def substring_between_letters(word,start,end):\n",
    "    new_string=[]\n",
    "    for c in word:\n",
    "        if  end in word:\n",
    "            if c == start:\n",
    "                new_string.append(c)\n",
    "                if c== end:\n",
    "                    new_string.append(end)\n",
    "                    break\n",
    "    return new_string\n",
    "\n",
    "print(substring_between_letters(\"apple\", \"p\", \"e\"))"
   ]
  }
 ],
 "metadata": {
  "kernelspec": {
   "display_name": "Python 3",
   "language": "python",
   "name": "python3"
  },
  "language_info": {
   "codemirror_mode": {
    "name": "ipython",
    "version": 3
   },
   "file_extension": ".py",
   "mimetype": "text/x-python",
   "name": "python",
   "nbconvert_exporter": "python",
   "pygments_lexer": "ipython3",
   "version": "3.8.3"
  }
 },
 "nbformat": 4,
 "nbformat_minor": 4
}
