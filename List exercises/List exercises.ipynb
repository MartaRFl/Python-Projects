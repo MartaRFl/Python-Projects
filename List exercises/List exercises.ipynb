{
 "cells": [
  {
   "cell_type": "code",
   "execution_count": 170,
   "metadata": {},
   "outputs": [],
   "source": [
    "\"\"\"A function which recieves a list \"\"\"\n",
    "\n",
    "def list_of_lists (lista):\n",
    "    for i in (lista[1:]):\n",
    "        for j in range(len(lista)):\n",
    "            print(lista[:j],lista[0],lista[j:])\n",
    "          "
   ]
  },
  {
   "cell_type": "code",
   "execution_count": 171,
   "metadata": {},
   "outputs": [
    {
     "name": "stdout",
     "output_type": "stream",
     "text": [
      "[] 1 [1, 2, 4]\n",
      "[1] 1 [2, 4]\n",
      "[1, 2] 1 [4]\n",
      "[] 1 [1, 2, 4]\n",
      "[1] 1 [2, 4]\n",
      "[1, 2] 1 [4]\n",
      "None\n"
     ]
    }
   ],
   "source": [
    "lista=[1,2,4]\n",
    "list_of_lists(lista)\n",
    "print(lista1)"
   ]
  },
  {
   "cell_type": "code",
   "execution_count": 225,
   "metadata": {},
   "outputs": [
    {
     "name": "stdout",
     "output_type": "stream",
     "text": [
      "[] 1 [1, 2, 3]\n",
      "[1] 1 [2, 3]\n",
      "[1, 2] 1 [3]\n",
      "[] 1 [1, 2, 3]\n",
      "[1] 1 [2, 3]\n",
      "[1, 2] 1 [3]\n",
      "None\n"
     ]
    }
   ],
   "source": [
    "                \n",
    "lista=[1,2,3]                \n",
    "lista1=list_of_lists(lista)\n",
    "print(lista1)"
   ]
  },
  {
   "cell_type": "code",
   "execution_count": 226,
   "metadata": {
    "scrolled": true
   },
   "outputs": [
    {
     "name": "stdout",
     "output_type": "stream",
     "text": [
      "[1, 3, 2]\n",
      "[2, 3, 1]\n",
      "[2, 1, 3]\n",
      "[3, 1, 2]\n",
      "[3, 2, 1]\n",
      "[1, 2, 3]\n"
     ]
    }
   ],
   "source": [
    "for x in lista:\n",
    "    for y in range(0,len(lista)):\n",
    "        if x != lista[y]:\n",
    "            #print(x,lista[y])\n",
    "            lista_2=[x, lista[y]]\n",
    "            if lista_2.count(lista[y-1]) == 0:\n",
    "                lista_2.append(lista[y-1])\n",
    "                print(lista_2)\n",
    "                print(lista_2[::-1])\n",
    "                       "
   ]
  },
  {
   "cell_type": "code",
   "execution_count": 169,
   "metadata": {},
   "outputs": [
    {
     "name": "stdout",
     "output_type": "stream",
     "text": [
      "hello\n"
     ]
    }
   ],
   "source": [
    "print(\"hello\")"
   ]
  },
  {
   "cell_type": "code",
   "execution_count": 215,
   "metadata": {},
   "outputs": [
    {
     "name": "stdout",
     "output_type": "stream",
     "text": [
      "[6, 2, 1, 4, 3, 2, 1]\n"
     ]
    }
   ],
   "source": [
    "list1 = [1, 2, 3, 4, 1, 2, 6]\n",
    "list1.reverse()\n",
    "print(list1)"
   ]
  }
 ],
 "metadata": {
  "kernelspec": {
   "display_name": "Python 3",
   "language": "python",
   "name": "python3"
  },
  "language_info": {
   "codemirror_mode": {
    "name": "ipython",
    "version": 3
   },
   "file_extension": ".py",
   "mimetype": "text/x-python",
   "name": "python",
   "nbconvert_exporter": "python",
   "pygments_lexer": "ipython3",
   "version": "3.8.3"
  }
 },
 "nbformat": 4,
 "nbformat_minor": 4
}
