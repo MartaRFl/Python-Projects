{
 "cells": [
  {
   "cell_type": "code",
   "execution_count": 99,
   "metadata": {},
   "outputs": [],
   "source": [
    "# Hangman. You have to guess a word randomly selected by the program.\n",
    "\n",
    "from random import randint\n",
    "import string\n",
    "\n",
    "\n",
    "remaining_attemps=6\n",
    "list=[\"name\", \"chair\", \"hair\", \"elephant\", \"rice\", \"love\", \"domain\", \"home\", \"true\", \"wish\", \"orange\"]\n",
    "\n",
    "\n",
    "def get_random_word():\n",
    "    return list[randint(0,len(list)-1)]\n",
    "\n",
    "def read_user_letter():\n",
    "    valid_letter = False\n",
    "    while(valid_letter == False):\n",
    "        user_letter= input(\"Please introduce a letter: \")\n",
    "        if user_letter.lower() in string.ascii_lowercase and len(user_letter)==1:\n",
    "            valid_letter= True\n",
    "    return user_letter.lower()\n",
    "\n",
    "def check_letter(word,user_letter):\n",
    "    if user_letter in word:\n",
    "        print (\"The word contains letter \", user_letter)\n",
    "    else:\n",
    "        remaining_attemps-=1\n",
    "        "
   ]
  },
  {
   "cell_type": "code",
   "execution_count": 101,
   "metadata": {},
   "outputs": [
    {
     "name": "stdout",
     "output_type": "stream",
     "text": [
      "Hello user, welcome to Hangman!. We are generating a randomword for you to play.\n",
      "Game is ready, please introduce a letter.\n",
      "Please introduce a letter: 2\n",
      "Please introduce a letter: er\n",
      "Please introduce a letter: e\n",
      "e\n"
     ]
    }
   ],
   "source": [
    "print (\"Hello user, welcome to Hangman!. We are generating a randomword for you to play.\")\n",
    "print(\"Game is ready, please introduce a letter.\")\n",
    "user_letter= read_user_letter()\n",
    "print(user_letter)"
   ]
  }
 ],
 "metadata": {
  "kernelspec": {
   "display_name": "Python 3",
   "language": "python",
   "name": "python3"
  },
  "language_info": {
   "codemirror_mode": {
    "name": "ipython",
    "version": 3
   },
   "file_extension": ".py",
   "mimetype": "text/x-python",
   "name": "python",
   "nbconvert_exporter": "python",
   "pygments_lexer": "ipython3",
   "version": "3.8.3"
  }
 },
 "nbformat": 4,
 "nbformat_minor": 4
}
