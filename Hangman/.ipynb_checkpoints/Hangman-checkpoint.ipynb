{
 "cells": [
  {
   "cell_type": "code",
   "execution_count": 43,
   "metadata": {},
   "outputs": [],
   "source": [
    "# Hangman. You have to guess a word randomly selected by the program.\n",
    "\n",
    "from random import randint\n",
    "import string\n",
    "\n",
    "\n",
    "remaining_attemps=6\n",
    "correct_word= False\n",
    "correct_letter=False\n",
    "already_introduced_words=[]\n",
    "list=[\"name\", \"chair\", \"hair\", \"elephant\", \"rice\", \"love\", \"domain\", \"home\", \"true\", \"wish\", \"orange\"]\n",
    "\n",
    "\n",
    "def get_random_word():\n",
    "    return list[randint(0,len(list)-1)]\n",
    "\n",
    "def read_user_letter(already_introduced_words):\n",
    "    valid_letter = False\n",
    "    while(valid_letter == False):\n",
    "        user_letter= input(\"Please introduce a letter: \")\n",
    "        if user_letter.lower() in string.ascii_lowercase and len(user_letter)==1:\n",
    "            valid_letter= True\n",
    "            already_introduced_words.append(user_letter)\n",
    "        else:\n",
    "            print(\"That is not a valid character.\")\n",
    "    return user_letter.lower(),already_introduced_words\n",
    "\n",
    "def check_letter(word,user_letter, remaining_attemps):\n",
    "    if user_letter in word:\n",
    "        print (\"The word contains letter \", user_letter)\n",
    "    else:\n",
    "        remaining_attemps-=1\n",
    "        print(\"Oh no, the word does not contain your letter.\")\n",
    "    return remaining_attemps\n",
    "        "
   ]
  },
  {
   "cell_type": "code",
   "execution_count": 44,
   "metadata": {},
   "outputs": [
    {
     "name": "stdout",
     "output_type": "stream",
     "text": [
      "Hello user, welcome to Hangman!. We are generating a randomword for you to play.\n",
      "Game is ready, please introduce a letter.\n",
      "home\n",
      "Please introduce a letter: f\n",
      "Oh no, the word does not contain your letter.\n",
      "5\n",
      "Please introduce a letter: u\n",
      "Oh no, the word does not contain your letter.\n",
      "4\n",
      "Please introduce a letter: r\n",
      "Oh no, the word does not contain your letter.\n",
      "3\n",
      "Please introduce a letter: t\n",
      "Oh no, the word does not contain your letter.\n",
      "2\n",
      "Please introduce a letter: y\n",
      "Oh no, the word does not contain your letter.\n",
      "1\n",
      "Please introduce a letter: a\n",
      "Oh no, the word does not contain your letter.\n",
      "0\n"
     ]
    }
   ],
   "source": [
    "print (\"Hello user, welcome to Hangman!. We are generating a randomword for you to play.\")\n",
    "print(\"Game is ready, please introduce a letter.\")\n",
    "\n",
    "word=get_random_word()\n",
    "print(word)\n",
    "\n",
    "while (remaining_attemps>0 and correct_word == False):\n",
    "    [user_letter,already_introduced_words]= read_user_letter(already_introduced_words)\n",
    "    remaining_attemps=check_letter(word,user_letter,remaining_attemps)\n",
    "    print(remaining_attemps)\n",
    "\n"
   ]
  }
 ],
 "metadata": {
  "kernelspec": {
   "display_name": "Python 3",
   "language": "python",
   "name": "python3"
  },
  "language_info": {
   "codemirror_mode": {
    "name": "ipython",
    "version": 3
   },
   "file_extension": ".py",
   "mimetype": "text/x-python",
   "name": "python",
   "nbconvert_exporter": "python",
   "pygments_lexer": "ipython3",
   "version": "3.8.3"
  }
 },
 "nbformat": 4,
 "nbformat_minor": 4
}
