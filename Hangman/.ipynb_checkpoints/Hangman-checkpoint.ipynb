{
 "cells": [
  {
   "cell_type": "code",
   "execution_count": 68,
   "metadata": {},
   "outputs": [
    {
     "name": "stdout",
     "output_type": "stream",
     "text": [
      "hair\n",
      "11\n"
     ]
    }
   ],
   "source": [
    "# Hangman. You have to guess a word randomly selected by the program.\n",
    "\n",
    "from random import randint\n",
    "\n",
    "\n",
    "remaining_attemps=6\n",
    "list=[\"name\", \"chair\", \"hair\", \"elephant\", \"rice\", \"love\", \"domain\", \"home\", \"true\", \"wish\", \"orange\"]\n",
    "\n",
    "\n",
    "def get_random_word():\n",
    "    return list[randint(0,len(list)-1)]\n",
    "\n",
    "def check_letter(word,user_letter):\n",
    "    if user_letter in word:\n",
    "        "
   ]
  }
 ],
 "metadata": {
  "kernelspec": {
   "display_name": "Python 3",
   "language": "python",
   "name": "python3"
  },
  "language_info": {
   "codemirror_mode": {
    "name": "ipython",
    "version": 3
   },
   "file_extension": ".py",
   "mimetype": "text/x-python",
   "name": "python",
   "nbconvert_exporter": "python",
   "pygments_lexer": "ipython3",
   "version": "3.8.3"
  }
 },
 "nbformat": 4,
 "nbformat_minor": 4
}
