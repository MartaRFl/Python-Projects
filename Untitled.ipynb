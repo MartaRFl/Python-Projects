{
 "cells": [
  {
   "cell_type": "code",
   "execution_count": 18,
   "metadata": {},
   "outputs": [
    {
     "name": "stdout",
     "output_type": "stream",
     "text": [
      "2022-02-21 19:26:45.273100\n",
      "Enter your year of birth: 1997\n",
      "Enter your month of birth: 4\n"
     ]
    }
   ],
   "source": [
    "# AGE CALCULATOR\n",
    "from datetime import datetime\n",
    "\n",
    "current_date=print(datetime.today())\n",
    "birth_year=input(\"Enter your year of birth: \")\n",
    "month=input(\"Enter your month of birth: \")\n",
    "\n",
    "\n",
    "\n"
   ]
  },
  {
   "cell_type": "code",
   "execution_count": null,
   "metadata": {},
   "outputs": [],
   "source": []
  }
 ],
 "metadata": {
  "kernelspec": {
   "display_name": "Python 3",
   "language": "python",
   "name": "python3"
  },
  "language_info": {
   "codemirror_mode": {
    "name": "ipython",
    "version": 3
   },
   "file_extension": ".py",
   "mimetype": "text/x-python",
   "name": "python",
   "nbconvert_exporter": "python",
   "pygments_lexer": "ipython3",
   "version": "3.8.3"
  }
 },
 "nbformat": 4,
 "nbformat_minor": 4
}
