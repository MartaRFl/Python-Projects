{
 "cells": [
  {
   "cell_type": "code",
   "execution_count": 9,
   "metadata": {},
   "outputs": [
    {
     "name": "stdout",
     "output_type": "stream",
     "text": [
      "Hello user, introduce a shape: 5\n",
      "Shape not defined yet. Would you like to define a new shape? \n"
     ]
    }
   ],
   "source": [
    "import numpy as np\n",
    "\n",
    "shape=input(\"Hello user, introduce a shape: \")\n",
    "\n",
    "if shape == \"T\" or shape == \"Triangle\":\n",
    "    base=int(input(\"Introduce the base: \"))\n",
    "    height=int(input(\"Introduce the height: \"))\n",
    "    area= base*height/2\n",
    "    print (\"The are is: \" + str(area))\n",
    "    \n",
    "elif shape == \"C\" or shape == \"Circle\":\n",
    "    radius= int(input (\"Introduce the radius: \"))\n",
    "    area= np.pi*radius*2\n",
    "    print (\"The are is: \" + str(area))\n",
    "\n",
    "else:\n",
    "    print (\"Shape not defined yet. Would you like to define a new shape? \")"
   ]
  }
 ],
 "metadata": {
  "kernelspec": {
   "display_name": "Python 3",
   "language": "python",
   "name": "python3"
  },
  "language_info": {
   "codemirror_mode": {
    "name": "ipython",
    "version": 3
   },
   "file_extension": ".py",
   "mimetype": "text/x-python",
   "name": "python",
   "nbconvert_exporter": "python",
   "pygments_lexer": "ipython3",
   "version": "3.8.3"
  }
 },
 "nbformat": 4,
 "nbformat_minor": 4
}
