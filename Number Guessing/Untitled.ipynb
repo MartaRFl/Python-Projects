{
 "cells": [
  {
   "cell_type": "code",
   "execution_count": 57,
   "metadata": {},
   "outputs": [
    {
     "name": "stdout",
     "output_type": "stream",
     "text": [
      "[['00', '01', '02', '03', '04', '05', '06', '07', '08', '09'], ['10', '11', '12', '13', '14', '15', '16', '17', '18', '19'], ['20', '21', '22', '23', '24', '25', '26', '27', '28', '29'], ['30', '31', '32', '33', '34', '35', '36', '37', '38', '39'], ['40', '41', '42', '43', '44', '45', '46', '47', '48', '49'], ['50', '51', '52', '53', '54', '55', '56', '57', '58', '59'], ['60', '61', '62', '63', '64', '65', '66', '67', '68', '69'], ['70', '71', '72', '73', '74', '75', '76', '77', '78', '79'], ['80', '81', '82', '83', '84', '85', '86', '87', '88', '89'], ['90', '91', '92', '93', '94', '95', '96', '97', '98', '99']]\n"
     ]
    }
   ],
   "source": [
    "matriz=[]\n",
    "for i in range(10):\n",
    "    matriz.append([])\n",
    "    \n",
    "    for j in range(10):\n",
    "        matriz[i].append(str(i) + str(j))\n",
    "        \n",
    "print(matriz)"
   ]
  },
  {
   "cell_type": "code",
   "execution_count": 32,
   "metadata": {},
   "outputs": [
    {
     "data": {
      "text/plain": [
       "'99'"
      ]
     },
     "execution_count": 32,
     "metadata": {},
     "output_type": "execute_result"
    }
   ],
   "source": [
    "str(i) + str(j)"
   ]
  },
  {
   "cell_type": "code",
   "execution_count": null,
   "metadata": {},
   "outputs": [],
   "source": []
  }
 ],
 "metadata": {
  "kernelspec": {
   "display_name": "Python 3",
   "language": "python",
   "name": "python3"
  },
  "language_info": {
   "codemirror_mode": {
    "name": "ipython",
    "version": 3
   },
   "file_extension": ".py",
   "mimetype": "text/x-python",
   "name": "python",
   "nbconvert_exporter": "python",
   "pygments_lexer": "ipython3",
   "version": "3.8.3"
  }
 },
 "nbformat": 4,
 "nbformat_minor": 4
}
