{
 "cells": [
  {
   "cell_type": "code",
   "execution_count": 4,
   "metadata": {},
   "outputs": [
    {
     "name": "stdout",
     "output_type": "stream",
     "text": [
      "Welcome to the game of dices. You have to decide wheter you want to roll the dice or not in order to get the higher score without getting a 6. If you hit 6, you lose. Good luck!\n",
      "Your score is 1. Do you want to roll again? \n",
      "4\n",
      "It seems you entered an invalid answer, try again:\n",
      "y\n",
      "Your roll is: 3\n",
      "Your score is 4. Do you want to roll again? \n",
      "\n",
      "It seems you entered an invalid answer, try again:\n",
      "y\n",
      "Your roll is: 4\n",
      "Your score is 8. Do you want to roll again? \n",
      "y\n",
      "Your roll is: 3\n",
      "Your score is 11. Do you want to roll again? \n",
      "y\n",
      "Your roll is: 4\n",
      "Your score is 15. Do you want to roll again? \n",
      "y\n",
      "Your roll is: 5\n",
      "Your score is 20. Do you want to roll again? \n",
      "y\n",
      "Your roll is: 3\n",
      "Your score is 23. Do you want to roll again? \n",
      "y\n",
      "Your roll is: 1\n",
      "Your score is 24. Do you want to roll again? \n",
      "y\n",
      "Your roll is: 3\n",
      "Your score is 27. Do you want to roll again? \n",
      "y\n",
      "Your roll is: 2\n",
      "Your score is 29. Do you want to roll again? \n",
      "no\n",
      "Okay, you just finished the game!\n",
      "The game has finished. Your total score was 29 and you rolled the dice 10 times.\n"
     ]
    }
   ],
   "source": [
    "# LITTLE GAME USING A DICE. ROLL THE DICE:\n",
    "\n",
    "import random as rd\n",
    "\n",
    "print(\"Welcome to the game of dices. You have to decide wheter you want to roll the dice or not in order to get the higher score without getting a 6. If you hit 6, you lose. Good luck!\")\n",
    "roll= rd.randint(1,6)\n",
    "if roll==6:\n",
    "    print(\"Vaya, tu tirada es 6 y has perdido :(\") \n",
    "exit=False\n",
    "continua=0\n",
    "score=0\n",
    "times=1\n",
    "while roll!=6 and continua==0:\n",
    "    score=score+roll\n",
    "    print(\"Your score is \" + str(score)+ \". Do you want to roll again? \")\n",
    "    answer=input()\n",
    "    while exit==False:\n",
    "        if answer==\"y\" or answer==\"yes\":\n",
    "           roll=rd.randint(1, 6)\n",
    "           times=times+1\n",
    "           exit=True\n",
    "           continua=0\n",
    "           print(\"Your roll is: \" + str(roll))\n",
    "        elif answer==\"no\" or answer==\"n\":\n",
    "            print(\"Okay, you just finished the game!\")\n",
    "            exit=True\n",
    "            continua=1\n",
    "        else:\n",
    "            print(\"It seems you entered an invalid answer, try again:\")\n",
    "            exit=False\n",
    "            answer=input()\n",
    "    exit=False\n",
    "if roll==6:\n",
    "    print(\"You lost the game, your score is 0.\")\n",
    "else:\n",
    "    print(\"The game has finished. Your total score was \"+ str(score)+\" and you rolled the dice \" + str(times)+ \" times.\")"
   ]
  },
  {
   "cell_type": "code",
   "execution_count": null,
   "metadata": {},
   "outputs": [],
   "source": []
  }
 ],
 "metadata": {
  "kernelspec": {
   "display_name": "Python 3",
   "language": "python",
   "name": "python3"
  },
  "language_info": {
   "codemirror_mode": {
    "name": "ipython",
    "version": 3
   },
   "file_extension": ".py",
   "mimetype": "text/x-python",
   "name": "python",
   "nbconvert_exporter": "python",
   "pygments_lexer": "ipython3",
   "version": "3.8.3"
  }
 },
 "nbformat": 4,
 "nbformat_minor": 4
}
