{
 "cells": [
  {
   "cell_type": "code",
   "execution_count": 46,
   "metadata": {},
   "outputs": [],
   "source": [
    "import pandas as pd\n",
    "import numpy as np\n",
    "import matplotlib as mpl\n",
    "import matplotlib.pyplot as plt"
   ]
  },
  {
   "cell_type": "code",
   "execution_count": 92,
   "metadata": {},
   "outputs": [
    {
     "name": "stdout",
     "output_type": "stream",
     "text": [
      "   Year  Profit  Ads\n",
      "0     1     651   23\n",
      "1     2     762   26\n",
      "2     3     856   30\n",
      "3     4    1063   34\n",
      "4     5    1190   43\n",
      "5     6    1298   48\n",
      "6     7    1421   52\n",
      "7     8    1440   57\n",
      "8     9    1518   58\n"
     ]
    }
   ],
   "source": [
    "# Read the data\n",
    "df=pd.read_csv(\"data.csv\")\n",
    "print(df)"
   ]
  },
  {
   "cell_type": "code",
   "execution_count": 94,
   "metadata": {},
   "outputs": [
    {
     "data": {
      "image/png": "[encoded data removed]",
      "text/plain": [
       "<Figure size 432x288 with 1 Axes>"
      ]
     },
     "metadata": {
      "needs_background": "light"
     },
     "output_type": "display_data"
    }
   ],
   "source": [
    "# Plot the data in order to check the possibilities\n",
    "plt.plot(df.Ads,df.Profit, \"ro\" )\n",
    "plt.xlabel(\"Money expent on ads\")\n",
    "plt.ylabel(\"Total anual profit\")\n",
    "plt.title(\"Money spent on ads vs. total profit\")\n",
    "plt.show()"
   ]
  },
  {
   "cell_type": "code",
   "execution_count": 115,
   "metadata": {},
   "outputs": [
    {
     "name": "stdout",
     "output_type": "stream",
     "text": [
      "25.88\n",
      "0     651.00\n",
      "1     728.64\n",
      "2     832.16\n",
      "3     935.68\n",
      "4    1168.60\n",
      "5    1298.00\n",
      "6    1401.52\n",
      "7    1530.92\n",
      "8    1556.80\n",
      "Name: Ads, dtype: float64\n"
     ]
    },
    {
     "data": {
      "text/plain": [
       "[<matplotlib.lines.Line2D at 0x17e960bc370>]"
      ]
     },
     "execution_count": 115,
     "metadata": {},
     "output_type": "execute_result"
    },
    {
     "data": {
      "image/png": "[encoded data removed]",
      "text/plain": [
       "<Figure size 432x288 with 1 Axes>"
      ]
     },
     "metadata": {
      "needs_background": "light"
     },
     "output_type": "display_data"
    }
   ],
   "source": [
    "# Now we can add our first linnear regresion line using two points from our data. This may be adjustable by selecting differetn points.\n",
    "\n",
    "x1=int(df[df.Year == 1].Ads)\n",
    "y1=int(df[df.Year == 1].Profit)\n",
    "x2=int(df[df.Year == 6].Ads)\n",
    "y2=int(df[df.Year == 6].Profit)\n",
    "m=(y2-y1)/(x2-x1)\n",
    "print(m)\n",
    "\n",
    "x=df.Ads\n",
    "y=m*(x-x1)+y1\n",
    "print(y)\n",
    "plt.plot(x,y)\n",
    "plt.plot(x,df.Profit, \"ro\")\n"
   ]
  },
  {
   "cell_type": "code",
   "execution_count": 102,
   "metadata": {},
   "outputs": [
    {
     "name": "stdout",
     "output_type": "stream",
     "text": [
      "23\n",
      "48\n",
      "651\n",
      "1298\n"
     ]
    }
   ],
   "source": [
    "print(x1)\n",
    "print(x2)\n",
    "print(y1)\n",
    "print(y2)"
   ]
  }
 ],
 "metadata": {
  "kernelspec": {
   "display_name": "Python 3",
   "language": "python",
   "name": "python3"
  },
  "language_info": {
   "codemirror_mode": {
    "name": "ipython",
    "version": 3
   },
   "file_extension": ".py",
   "mimetype": "text/x-python",
   "name": "python",
   "nbconvert_exporter": "python",
   "pygments_lexer": "ipython3",
   "version": "3.8.3"
  }
 },
 "nbformat": 4,
 "nbformat_minor": 4
}
