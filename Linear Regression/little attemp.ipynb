{
 "cells": [
  {
   "cell_type": "code",
   "execution_count": null,
   "metadata": {},
   "outputs": [],
   "source": []
  },
  {
   "cell_type": "code",
   "execution_count": 10,
   "metadata": {},
   "outputs": [
    {
     "name": "stdout",
     "output_type": "stream",
     "text": [
      "    651;23\n",
      "0   762;26\n",
      "1   856;30\n",
      "2  1063;34\n",
      "3  1190;43\n",
      "4  1298;48\n",
      "5  1421;52\n",
      "6  1440;57\n",
      "7  1518;58\n"
     ]
    }
   ],
   "source": [
    "import pandas as pd\n",
    "datos=pd.read_csv(\"data.csv\")\n",
    "print(datos)         "
   ]
  }
 ],
 "metadata": {
  "kernelspec": {
   "display_name": "Python 3",
   "language": "python",
   "name": "python3"
  },
  "language_info": {
   "codemirror_mode": {
    "name": "ipython",
    "version": 3
   },
   "file_extension": ".py",
   "mimetype": "text/x-python",
   "name": "python",
   "nbconvert_exporter": "python",
   "pygments_lexer": "ipython3",
   "version": "3.8.3"
  }
 },
 "nbformat": 4,
 "nbformat_minor": 4
}
