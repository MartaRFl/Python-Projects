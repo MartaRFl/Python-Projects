{
 "cells": [
  {
   "cell_type": "code",
   "execution_count": 7,
   "metadata": {},
   "outputs": [],
   "source": [
    "## Linear Regression\n",
    "\n",
    "\"\"\"\n",
    "Linear regression is when you have a group of points on a graph and want a find a line that approximately resembles that group of points.\n",
    "We will always try to minimize the error.\n",
    "\n",
    "In this project i want to use loops, lists and arithmetic operations to create a funtion to find a line of best fit on \n",
    "a given set of data.\"\"\"\n",
    "\n",
    "import matplotlib as pb\n",
    "import matplotlib.pyplot as plt\n"
   ]
  },
  {
   "cell_type": "code",
   "execution_count": 31,
   "metadata": {},
   "outputs": [
    {
     "data": {
      "image/png": "[encoded data removed]",
      "text/plain": [
       "<Figure size 432x288 with 1 Axes>"
      ]
     },
     "metadata": {
      "needs_background": "light"
     },
     "output_type": "display_data"
    }
   ],
   "source": [
    "# The equation of our imaginary line is y=m*x + b where m is the slope and b the intercept  of the y-axis\n",
    "# y indicates the distance between the point and th line. Greater y means a higher error\n",
    "\n",
    "def get_y_value (x,m,b):\n",
    "    return m*x+b\n",
    "    b  "
   ]
  },
  {
   "cell_type": "code",
   "execution_count": 32,
   "metadata": {},
   "outputs": [
    {
     "data": {
      "image/png": "[encoded data removed]",
      "text/plain": [
       "<Figure size 432x288 with 1 Axes>"
      ]
     },
     "metadata": {
      "needs_background": "light"
     },
     "output_type": "display_data"
    }
   ],
   "source": [
    "#x=0\n",
    "#m=3\n",
    "#b=-12\n",
    "x_axis=[]\n",
    "y_axis=[]\n",
    "while (x<=10):\n",
    "    x_axis.append(x)\n",
    "    y_axis.append(get_y_value(x,m,b))\n",
    "    x+=1\n",
    "    \n",
    "plt.plot(x_axis,y_axis, \"r\")\n",
    "\n",
    "plt.show()"
   ]
  },
  {
   "cell_type": "code",
   "execution_count": 9,
   "metadata": {},
   "outputs": [
    {
     "data": {
      "text/plain": [
       "[<matplotlib.lines.Line2D at 0x12cb7d9eb50>]"
      ]
     },
     "execution_count": 9,
     "metadata": {},
     "output_type": "execute_result"
    },
    {
     "data": {
      "image/png": "[encoded data removed]",
      "text/plain": [
       "<Figure size 432x288 with 1 Axes>"
      ]
     },
     "metadata": {
      "needs_background": "light"
     },
     "output_type": "display_data"
    }
   ],
   "source": [
    "while (sum > 10):\n",
    "    for i in range(data):\n",
    "        sum=+ get_y_value(x,m,b)"
   ]
  },
  {
   "cell_type": "code",
   "execution_count": 1,
   "metadata": {},
   "outputs": [],
   "source": [
    "# We want to get the least error possible, so we build a function that calculates the error between the given line and a point\n",
    "\n",
    "def error(point,m,b):\n",
    "    x=point[0]\n",
    "    y=point[1]\n",
    "    y_line = get_y_value(x,m,b)\n",
    "    distance = abs(y-y_line)\n",
    "    return distance\n"
   ]
  }
 ],
 "metadata": {
  "kernelspec": {
   "display_name": "Python 3",
   "language": "python",
   "name": "python3"
  },
  "language_info": {
   "codemirror_mode": {
    "name": "ipython",
    "version": 3
   },
   "file_extension": ".py",
   "mimetype": "text/x-python",
   "name": "python",
   "nbconvert_exporter": "python",
   "pygments_lexer": "ipython3",
   "version": "3.8.3"
  }
 },
 "nbformat": 4,
 "nbformat_minor": 4
}
