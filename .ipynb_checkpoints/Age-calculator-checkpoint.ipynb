{
 "cells": [
  {
   "cell_type": "code",
   "execution_count": 32,
   "metadata": {},
   "outputs": [
    {
     "name": "stdout",
     "output_type": "stream",
     "text": [
      "Enter your year of birth: 1997\n",
      "Your age is 25.\n"
     ]
    }
   ],
   "source": [
    "# AGE CALCULATOR\n",
    "from datetime import datetime\n",
    "\n",
    "current_year=int(datetime.today().strftime(\"%Y\"))\n",
    "birth_year=int(input(\"Enter your year of birth: \"))\n",
    "\n",
    "age= current_year - birth_year\n",
    "print(\"Your age is \"+ str(age) + \".\")"
   ]
  },
  {
   "cell_type": "code",
   "execution_count": null,
   "metadata": {},
   "outputs": [],
   "source": []
  }
 ],
 "metadata": {
  "kernelspec": {
   "display_name": "Python 3",
   "language": "python",
   "name": "python3"
  },
  "language_info": {
   "codemirror_mode": {
    "name": "ipython",
    "version": 3
   },
   "file_extension": ".py",
   "mimetype": "text/x-python",
   "name": "python",
   "nbconvert_exporter": "python",
   "pygments_lexer": "ipython3",
   "version": "3.8.3"
  }
 },
 "nbformat": 4,
 "nbformat_minor": 4
}
